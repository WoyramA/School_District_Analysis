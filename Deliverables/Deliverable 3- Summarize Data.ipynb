{
 "cells": [
  {
   "cell_type": "code",
   "execution_count": 1,
   "id": "9a05b584",
   "metadata": {},
   "outputs": [],
   "source": [
    "# Dependencies\n",
    "import pandas as pd\n",
    "import os"
   ]
  },
  {
   "cell_type": "code",
   "execution_count": 2,
   "id": "79fb2a9a",
   "metadata": {},
   "outputs": [],
   "source": [
    "# Create DataFrame called student_df\n",
    "\n",
    "new_full_student_data = os.path.join('../Resources/new_full_student_data.csv')\n",
    "student_df = pd.read_csv(new_full_student_data)"
   ]
  },
  {
   "cell_type": "code",
   "execution_count": 3,
   "id": "036b280c",
   "metadata": {},
   "outputs": [
    {
     "data": {
      "text/html": [
       "<div>\n",
       "<style scoped>\n",
       "    .dataframe tbody tr th:only-of-type {\n",
       "        vertical-align: middle;\n",
       "    }\n",
       "\n",
       "    .dataframe tbody tr th {\n",
       "        vertical-align: top;\n",
       "    }\n",
       "\n",
       "    .dataframe thead th {\n",
       "        text-align: right;\n",
       "    }\n",
       "</style>\n",
       "<table border=\"1\" class=\"dataframe\">\n",
       "  <thead>\n",
       "    <tr style=\"text-align: right;\">\n",
       "      <th></th>\n",
       "      <th>student_id</th>\n",
       "      <th>reading_score</th>\n",
       "      <th>math_score</th>\n",
       "      <th>school_budget</th>\n",
       "    </tr>\n",
       "  </thead>\n",
       "  <tbody>\n",
       "    <tr>\n",
       "      <th>count</th>\n",
       "      <td>1.951400e+04</td>\n",
       "      <td>17546.000000</td>\n",
       "      <td>18532.000000</td>\n",
       "      <td>19514.000000</td>\n",
       "    </tr>\n",
       "    <tr>\n",
       "      <th>mean</th>\n",
       "      <td>6.975630e+07</td>\n",
       "      <td>72.407854</td>\n",
       "      <td>64.628972</td>\n",
       "      <td>893738.174080</td>\n",
       "    </tr>\n",
       "    <tr>\n",
       "      <th>std</th>\n",
       "      <td>3.459615e+07</td>\n",
       "      <td>15.206922</td>\n",
       "      <td>15.800076</td>\n",
       "      <td>53975.504589</td>\n",
       "    </tr>\n",
       "    <tr>\n",
       "      <th>min</th>\n",
       "      <td>1.000906e+07</td>\n",
       "      <td>10.500000</td>\n",
       "      <td>3.700000</td>\n",
       "      <td>817615.000000</td>\n",
       "    </tr>\n",
       "    <tr>\n",
       "      <th>25%</th>\n",
       "      <td>3.962676e+07</td>\n",
       "      <td>62.300000</td>\n",
       "      <td>54.400000</td>\n",
       "      <td>846745.000000</td>\n",
       "    </tr>\n",
       "    <tr>\n",
       "      <th>50%</th>\n",
       "      <td>6.972680e+07</td>\n",
       "      <td>73.800000</td>\n",
       "      <td>65.200000</td>\n",
       "      <td>893368.000000</td>\n",
       "    </tr>\n",
       "    <tr>\n",
       "      <th>75%</th>\n",
       "      <td>9.949126e+07</td>\n",
       "      <td>84.000000</td>\n",
       "      <td>75.900000</td>\n",
       "      <td>956438.000000</td>\n",
       "    </tr>\n",
       "    <tr>\n",
       "      <th>max</th>\n",
       "      <td>1.299997e+08</td>\n",
       "      <td>100.000000</td>\n",
       "      <td>100.000000</td>\n",
       "      <td>991918.000000</td>\n",
       "    </tr>\n",
       "  </tbody>\n",
       "</table>\n",
       "</div>"
      ],
      "text/plain": [
       "         student_id  reading_score    math_score  school_budget\n",
       "count  1.951400e+04   17546.000000  18532.000000   19514.000000\n",
       "mean   6.975630e+07      72.407854     64.628972  893738.174080\n",
       "std    3.459615e+07      15.206922     15.800076   53975.504589\n",
       "min    1.000906e+07      10.500000      3.700000  817615.000000\n",
       "25%    3.962676e+07      62.300000     54.400000  846745.000000\n",
       "50%    6.972680e+07      73.800000     65.200000  893368.000000\n",
       "75%    9.949126e+07      84.000000     75.900000  956438.000000\n",
       "max    1.299997e+08     100.000000    100.000000  991918.000000"
      ]
     },
     "execution_count": 3,
     "metadata": {},
     "output_type": "execute_result"
    }
   ],
   "source": [
    "# 1. Summary Statistics\n",
    "student_df.describe()"
   ]
  },
  {
   "cell_type": "code",
   "execution_count": 4,
   "id": "8f796044",
   "metadata": {},
   "outputs": [
    {
     "data": {
      "text/plain": [
       "<bound method NDFrame._add_numeric_operations.<locals>.mean of 0        88.2\n",
       "1        73.5\n",
       "2        70.4\n",
       "3        80.3\n",
       "4        27.5\n",
       "         ... \n",
       "19509    27.2\n",
       "19510    80.4\n",
       "19511    84.1\n",
       "19512    70.9\n",
       "19513    42.4\n",
       "Name: math_score, Length: 19514, dtype: float64>"
      ]
     },
     "execution_count": 4,
     "metadata": {},
     "output_type": "execute_result"
    }
   ],
   "source": [
    "# Mean math score\n",
    "mean_math_score = student_df[\"math_score\"].mean\n",
    "mean_math_score"
   ]
  },
  {
   "cell_type": "code",
   "execution_count": 5,
   "id": "6ff1a15b",
   "metadata": {},
   "outputs": [
    {
     "data": {
      "text/plain": [
       "<bound method NDFrame._add_numeric_operations.<locals>.min of 0        59.0\n",
       "1        94.7\n",
       "2        89.0\n",
       "3        69.7\n",
       "4         NaN\n",
       "         ... \n",
       "19509    43.3\n",
       "19510    52.1\n",
       "19511    93.9\n",
       "19512    94.6\n",
       "19513    82.3\n",
       "Name: reading_score, Length: 19514, dtype: float64>"
      ]
     },
     "execution_count": 5,
     "metadata": {},
     "output_type": "execute_result"
    }
   ],
   "source": [
    "# Minimum reading score\n",
    "min_reading_score = student_df[\"reading_score\"].min\n",
    "min_reading_score"
   ]
  },
  {
   "cell_type": "code",
   "execution_count": null,
   "id": "a4a1644f",
   "metadata": {},
   "outputs": [],
   "source": []
  }
 ],
 "metadata": {
  "kernelspec": {
   "display_name": "PythonData",
   "language": "python",
   "name": "pythondata"
  },
  "language_info": {
   "codemirror_mode": {
    "name": "ipython",
    "version": 3
   },
   "file_extension": ".py",
   "mimetype": "text/x-python",
   "name": "python",
   "nbconvert_exporter": "python",
   "pygments_lexer": "ipython3",
   "version": "3.7.13"
  }
 },
 "nbformat": 4,
 "nbformat_minor": 5
}
